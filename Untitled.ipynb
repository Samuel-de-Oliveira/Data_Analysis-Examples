{
 "cells": [
  {
   "cell_type": "markdown",
   "id": "23e8137a-c478-42a5-8702-e6071061bb8e",
   "metadata": {},
   "source": [
    "# Numpy Examples\n",
    "example code with Numpy library. Firstly you need to check\n",
    "if numpy is istalled with this simple code:"
   ]
  },
  {
   "cell_type": "code",
   "execution_count": 1,
   "id": "86e49146-4fce-42d3-bdf0-6cb04caa2739",
   "metadata": {},
   "outputs": [
    {
     "name": "stdout",
     "output_type": "stream",
     "text": [
      "The Numpy version is: 1.26.4.\n"
     ]
    }
   ],
   "source": [
    "try:\n",
    "    import numpy as np\n",
    "except:\n",
    "    print('Numpy isn\\'t installed...')\n",
    "\n",
    "if __name__ == '__main__':\n",
    "    print(f'The Numpy version is: {np.__version__}.')"
   ]
  },
  {
   "cell_type": "markdown",
   "id": "fdd799dd-0f8b-4d59-89e6-3c750fc68971",
   "metadata": {},
   "source": [
    "## First Example"
   ]
  }
 ],
 "metadata": {
  "kernelspec": {
   "display_name": "Python 3 (ipykernel)",
   "language": "python",
   "name": "python3"
  },
  "language_info": {
   "codemirror_mode": {
    "name": "ipython",
    "version": 3
   },
   "file_extension": ".py",
   "mimetype": "text/x-python",
   "name": "python",
   "nbconvert_exporter": "python",
   "pygments_lexer": "ipython3",
   "version": "3.12.3"
  }
 },
 "nbformat": 4,
 "nbformat_minor": 5
}
