{
 "cells": [
  {
   "cell_type": "markdown",
   "id": "037fc0b7-b9c8-4ccc-ac98-b7de83ca8f6b",
   "metadata": {},
   "source": [
    "# Numpy \n",
    "## Introduction\n",
    "numpy is a library that improves the arrays from python code, is good for math and data analysis.\n",
    "\n",
    "## Our Problem:\n",
    "Make a script that test a Numpy array with 5 milions of values against a traditional python array with the same quantity of values.\n",
    "\n",
    "bellow there is a code for our problem:\n",
    "\n",
    "> The Problem also has code calloed Main.py in this folder."
   ]
  },
  {
   "cell_type": "code",
   "execution_count": 1,
   "id": "063f3516-4ab8-4c79-9327-1dcf8b486b8c",
   "metadata": {},
   "outputs": [
    {
     "name": "stdout",
     "output_type": "stream",
     "text": [
      "Wrong argument!\n",
      "Final time for normal array: 0.53\n",
      "Final time for Numpy array: 1.81\n"
     ]
    }
   ],
   "source": [
    "# This is the python file for the problem\n",
    "\n",
    "import numpy as np\n",
    "import sys\n",
    "from time import time\n",
    "\n",
    "sys_args = sys.argv[1:]\n",
    "\n",
    "if not sys_args:\n",
    "    # Verify if it has any arguments\n",
    "    print('Please insert one of these arguments:\\n'\n",
    "          '\\t\\033[1mshow, not_show\\033[m')\n",
    "    exit()\n",
    "else:\n",
    "    # Verify if the argument is correct\n",
    "    if not sys_args[0] in ('show', 'not_show'):\n",
    "        print('Wrong argument!')\n",
    "        exit()\n",
    "\n",
    "\n",
    "if __name__ == \"__main__\":\n",
    "    ##### Normal array test #####\n",
    "    timer = time()\n",
    "    normal_array = [ i for i in range(0, 5_000_000) ] # Create the list\n",
    "\n",
    "    ## Show list if its digited show in the final\n",
    "    if sys_args[0] == 'show': print(normal_array)\n",
    "\n",
    "    final_time = time() - timer\n",
    "    print(f'Final time for normal array: {final_time:.2f}')\n",
    "\n",
    "    ##### Numpy array test #####\n",
    "    timer = time()\n",
    "    numpy_array = np.array([ i for i in range(0, 5_000_000) ]) # Create the list\n",
    "\n",
    "    ## Show list if its digited show in the final\n",
    "    if sys_args[0] == 'show': print(numpy_array)\n",
    "\n",
    "    final_time = time() - timer\n",
    "    print(f'Final time for Numpy array: {final_time:.2f}')\n"
   ]
  },
  {
   "cell_type": "markdown",
   "id": "6d31a513-5a6b-4d6a-8518-b3b93997e34f",
   "metadata": {},
   "source": [
    "## Usage: \n",
    "```sh\n",
    "python Main.py [arg]\n",
    "# the [arg] showld be \"show\" or \"not_show\"\n",
    "```\n",
    "\n",
    "## Conslusion:\n",
    "The Numpy arrays is more fastest than traditional arrays when printed or used, but is slow when it is created."
   ]
  }
 ],
 "metadata": {
  "kernelspec": {
   "display_name": "Python 3 (ipykernel)",
   "language": "python",
   "name": "python3"
  },
  "language_info": {
   "codemirror_mode": {
    "name": "ipython",
    "version": 3
   },
   "file_extension": ".py",
   "mimetype": "text/x-python",
   "name": "python",
   "nbconvert_exporter": "python",
   "pygments_lexer": "ipython3",
   "version": "3.12.7"
  }
 },
 "nbformat": 4,
 "nbformat_minor": 5
}
