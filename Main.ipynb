{
 "cells": [
  {
   "cell_type": "markdown",
   "id": "23e8137a-c478-42a5-8702-e6071061bb8e",
   "metadata": {},
   "source": [
    "# Data Analysis Examples\n",
    "My personal portifolio for data Analisys\n",
    "\n",
    "> On building..."
   ]
  },
  {
   "cell_type": "code",
   "execution_count": null,
   "id": "f2954790-e5b1-47f7-9896-91565a604654",
   "metadata": {},
   "outputs": [],
   "source": []
  }
 ],
 "metadata": {
  "kernelspec": {
   "display_name": "Python 3 (ipykernel)",
   "language": "python",
   "name": "python3"
  },
  "language_info": {
   "codemirror_mode": {
    "name": "ipython",
    "version": 3
   },
   "file_extension": ".py",
   "mimetype": "text/x-python",
   "name": "python",
   "nbconvert_exporter": "python",
   "pygments_lexer": "ipython3",
   "version": "3.12.7"
  }
 },
 "nbformat": 4,
 "nbformat_minor": 5
}
