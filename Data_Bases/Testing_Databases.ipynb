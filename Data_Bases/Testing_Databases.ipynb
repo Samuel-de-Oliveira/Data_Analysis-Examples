{
 "cells": [
  {
   "cell_type": "markdown",
   "id": "cee1dd65-7477-40e6-a9cb-23185ae25719",
   "metadata": {},
   "source": [
    "# Testing Databases\n",
    "\n",
    "## Our problem\n",
    "Take the info of people in a table of data base file and return a graphical table comparing the age of the peaople.\n",
    "\n",
    "for while lets try to get the people and return the name and the age."
   ]
  },
  {
   "cell_type": "code",
   "execution_count": 22,
   "id": "da7f0f3d-8b68-4b75-ac33-ac0a7a4bfe8c",
   "metadata": {},
   "outputs": [
    {
     "name": "stdout",
     "output_type": "stream",
     "text": [
      "Name: Samuel de Oliveira, Age: 19\n",
      "Name: Ana Clara Vitória, Age: 32\n",
      "Name: Lucas Ferreira, Age: 21\n",
      "Name: Mariana Costa, Age: 24\n",
      "Name: Yasmim Ferreira, Age: 17\n",
      "Name: Yang Sheng lee, Age: 25\n"
     ]
    }
   ],
   "source": [
    "import sqlite3\n",
    "from datetime import datetime\n",
    "\n",
    "# Constants\n",
    "current_year = datetime.now().year\n",
    "people = sqlite3.connect('SQL/Peoples.sql')\n",
    "\n",
    "if __name__ == \"__main__\":\n",
    "    # Get the people\n",
    "    cursor  = people.cursor()\n",
    "    cursor.execute('SELECT * FROM persons')\n",
    "    persons = cursor.fetchall()\n",
    "\n",
    "    # Print the Name and age\n",
    "    for person in persons:\n",
    "        print(f'Name: {person[1]}, Age: {current_year - person[2]}')"
   ]
  }
 ],
 "metadata": {
  "kernelspec": {
   "display_name": "Python 3 (ipykernel)",
   "language": "python",
   "name": "python3"
  },
  "language_info": {
   "codemirror_mode": {
    "name": "ipython",
    "version": 3
   },
   "file_extension": ".py",
   "mimetype": "text/x-python",
   "name": "python",
   "nbconvert_exporter": "python",
   "pygments_lexer": "ipython3",
   "version": "3.12.7"
  }
 },
 "nbformat": 4,
 "nbformat_minor": 5
}
