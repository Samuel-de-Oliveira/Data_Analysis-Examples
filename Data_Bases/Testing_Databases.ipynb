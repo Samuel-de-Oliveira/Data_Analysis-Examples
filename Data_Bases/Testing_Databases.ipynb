{
 "cells": [
  {
   "cell_type": "markdown",
   "id": "cee1dd65-7477-40e6-a9cb-23185ae25719",
   "metadata": {},
   "source": [
    "# Testing Databases\n",
    "\n",
    "## Our problem\n",
    "Take the info of people in a table of data base file and return a graphical table comparing the age of the peaople.\n",
    "\n",
    "for while lets try to get the people and return the name and the age."
   ]
  },
  {
   "cell_type": "code",
   "execution_count": 2,
   "id": "da7f0f3d-8b68-4b75-ac33-ac0a7a4bfe8c",
   "metadata": {},
   "outputs": [
    {
     "name": "stdout",
     "output_type": "stream",
     "text": [
      "Name: Samuel de Oliveira, Age: 19\n",
      "Name: Ana Clara Vitória, Age: 32\n",
      "Name: Lucas Ferreira, Age: 21\n",
      "Name: Mariana Costa, Age: 24\n",
      "Name: Yasmim Ferreira, Age: 17\n",
      "Name: Yang Sheng lee, Age: 25\n",
      "Name: Alice Emanuelly, Age: 19\n",
      "Name: Ronaldo Oliveira, Age: 15\n",
      "Name: Richand Raymond, Age: 26\n",
      "Name: Silas de Oliveira, Age: 21\n",
      "Name: Peter Raul, Age: 34\n",
      "Name: Isabelle Ferreira, Age: 14\n"
     ]
    }
   ],
   "source": [
    "import sqlite3\n",
    "from datetime import datetime\n",
    "\n",
    "# Constants\n",
    "current_year = datetime.now().year\n",
    "people = sqlite3.connect('SQL/Peoples.sql')\n",
    "\n",
    "if __name__ == \"__main__\":\n",
    "    # Get the people\n",
    "    cursor  = people.cursor()\n",
    "    cursor.execute('SELECT * FROM persons')\n",
    "    persons = cursor.fetchall()\n",
    "\n",
    "    # Print the Name and age\n",
    "    for person in persons:\n",
    "        print(f'Name: {person[1]}, Age: {current_year - person[2]}')"
   ]
  },
  {
   "cell_type": "markdown",
   "id": "2c77aa72",
   "metadata": {},
   "source": [
    "Now let's try to make a graphical table with these informations"
   ]
  },
  {
   "cell_type": "code",
   "execution_count": 15,
   "id": "6fdae3e2",
   "metadata": {},
   "outputs": [
    {
     "data": {
      "image/png": "[encoded data removed]",
      "text/plain": [
       "<Figure size 640x480 with 1 Axes>"
      ]
     },
     "metadata": {},
     "output_type": "display_data"
    }
   ],
   "source": [
    "import matplotlib.pyplot as plt\n",
    "\n",
    "grafico = {\n",
    "    \"Categorias\": [\"0 - 15 Years\", \"16 - 25 Years\", \"+25 Years\"],\n",
    "    \"Valores\": [0, 0, 0]\n",
    "}\n",
    "\n",
    "for person in persons:\n",
    "    if current_year - person[2] <= 15: grafico[\"Valores\"][0] += 1\n",
    "    elif 16 <= current_year - person[2] <= 25: grafico[\"Valores\"][1] += 1\n",
    "    else: grafico[\"Valores\"][2] += 1\n",
    "\n",
    "if __name__ == \"__main__\":\n",
    "    plt.title(\"People Age\")\n",
    "    plt.bar(\n",
    "        grafico[\"Categorias\"],\n",
    "        grafico[\"Valores\"]\n",
    "    )\n",
    "    plt.show()"
   ]
  }
 ],
 "metadata": {
  "kernelspec": {
   "display_name": "Python 3",
   "language": "python",
   "name": "python3"
  },
  "language_info": {
   "codemirror_mode": {
    "name": "ipython",
    "version": 3
   },
   "file_extension": ".py",
   "mimetype": "text/x-python",
   "name": "python",
   "nbconvert_exporter": "python",
   "pygments_lexer": "ipython3",
   "version": "3.12.6"
  }
 },
 "nbformat": 4,
 "nbformat_minor": 5
}
